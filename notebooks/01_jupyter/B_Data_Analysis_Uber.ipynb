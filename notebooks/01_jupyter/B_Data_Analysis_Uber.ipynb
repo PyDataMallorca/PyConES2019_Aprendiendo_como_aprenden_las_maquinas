{
 "cells": [
  {
   "cell_type": "code",
   "execution_count": null,
   "metadata": {},
   "outputs": [],
   "source": [
    "%pylab inline\n",
    "import pandas\n",
    "import seaborn"
   ]
  },
  {
   "cell_type": "markdown",
   "metadata": {},
   "source": [
    "# Load CSV file into memory"
   ]
  },
  {
   "cell_type": "code",
   "execution_count": null,
   "metadata": {},
   "outputs": [],
   "source": [
    "data = pandas.read_csv('./data/uber-raw-data-apr14.csv')"
   ]
  },
  {
   "cell_type": "code",
   "execution_count": null,
   "metadata": {},
   "outputs": [],
   "source": [
    "data.tail()"
   ]
  },
  {
   "cell_type": "markdown",
   "metadata": {},
   "source": [
    "# Convert datetime and add some useful columns"
   ]
  },
  {
   "cell_type": "code",
   "execution_count": null,
   "metadata": {},
   "outputs": [],
   "source": [
    "%time data['Date/Time'] = data['Date/Time'].map(pandas.to_datetime)"
   ]
  },
  {
   "cell_type": "code",
   "execution_count": null,
   "metadata": {},
   "outputs": [],
   "source": [
    "data.tail()"
   ]
  },
  {
   "cell_type": "code",
   "execution_count": null,
   "metadata": {},
   "outputs": [],
   "source": [
    "def get_dom(dt):\n",
    "    return dt.day\n",
    "\n",
    "data['dom'] = data['Date/Time'].map(get_dom)\n",
    "    "
   ]
  },
  {
   "cell_type": "code",
   "execution_count": null,
   "metadata": {},
   "outputs": [],
   "source": [
    "data.tail()"
   ]
  },
  {
   "cell_type": "code",
   "execution_count": null,
   "metadata": {},
   "outputs": [],
   "source": [
    "def get_weekday(dt):\n",
    "    return dt.weekday()\n",
    "\n",
    "data['weekday'] = data['Date/Time'].map(get_weekday)\n",
    "\n",
    "def get_hour(dt):\n",
    "    return dt.hour\n",
    "\n",
    "data['hour'] = data['Date/Time'].map(get_hour)\n",
    "\n",
    "data.tail()"
   ]
  },
  {
   "cell_type": "markdown",
   "metadata": {},
   "source": [
    "# analysis"
   ]
  },
  {
   "cell_type": "markdown",
   "metadata": {},
   "source": [
    "## analyze the DoM"
   ]
  },
  {
   "cell_type": "code",
   "execution_count": null,
   "metadata": {},
   "outputs": [],
   "source": [
    "hist(data.dom, bins=30, rwidth=.8, range=(0.5, 30.5))\n",
    "xlabel('date of the month')\n",
    "ylabel('frequency')\n",
    "title('Frequency by DoM - uber - Apr 2014') ;"
   ]
  },
  {
   "cell_type": "code",
   "execution_count": null,
   "metadata": {},
   "outputs": [],
   "source": [
    "\n",
    "#for k, rows in data.groupby('dom'):\n",
    "#    print((k, len(rows)))\n",
    " \n",
    "def count_rows(rows):\n",
    "    return len(rows)\n",
    "\n",
    "by_date = data.groupby('dom').apply(count_rows)\n",
    "by_date"
   ]
  },
  {
   "cell_type": "code",
   "execution_count": null,
   "metadata": {},
   "outputs": [],
   "source": [
    "bar(range(1, 31), by_date) ;\n",
    "#plot(by_date)"
   ]
  },
  {
   "cell_type": "code",
   "execution_count": null,
   "metadata": {},
   "outputs": [],
   "source": [
    "by_date_sorted = by_date.sort_values()\n",
    "by_date_sorted"
   ]
  },
  {
   "cell_type": "code",
   "execution_count": null,
   "metadata": {},
   "outputs": [],
   "source": [
    "figure(figsize=(15,7))\n",
    "bar(range(1, 31), by_date_sorted)\n",
    "#plot(by_date_sorted)\n",
    "xticks(range(1,31), by_date_sorted.index)\n",
    "xlabel('date of the month')\n",
    "ylabel('frequency')\n",
    "title('Frequency by DoM - uber - Apr 2014')\n",
    ";"
   ]
  },
  {
   "cell_type": "markdown",
   "metadata": {},
   "source": [
    "## analyze the hour"
   ]
  },
  {
   "cell_type": "code",
   "execution_count": null,
   "metadata": {},
   "outputs": [],
   "source": [
    "figure(figsize=(15,7))\n",
    "hist(data.hour, bins=24, range=(-0.5, 24), rwidth=.89) \n",
    "xticks(range(0,25), data.hour.index)\n",
    "xlabel('hour')\n",
    "ylabel('frequency')\n",
    "title('Frequency by hours- uber - Apr 2014');"
   ]
  },
  {
   "cell_type": "code",
   "execution_count": null,
   "metadata": {},
   "outputs": [],
   "source": []
  },
  {
   "cell_type": "markdown",
   "metadata": {},
   "source": [
    "# analyze the weekday\n"
   ]
  },
  {
   "cell_type": "code",
   "execution_count": null,
   "metadata": {},
   "outputs": [],
   "source": [
    "figure(figsize=(15,7))\n",
    "hist(data.weekday, bins=7, range =(-.5,6.5), rwidth=.8, color='#AA6666', alpha=.4)\n",
    "xticks(range(7), 'Mon Tue Wed Thu Fri Sat Sun'.split()) ;"
   ]
  },
  {
   "cell_type": "code",
   "execution_count": null,
   "metadata": {},
   "outputs": [],
   "source": []
  },
  {
   "cell_type": "markdown",
   "metadata": {},
   "source": [
    "# cross analysis (hour, dow)"
   ]
  },
  {
   "cell_type": "code",
   "execution_count": null,
   "metadata": {},
   "outputs": [],
   "source": [
    "\n",
    "by_cross = data.groupby('weekday hour'.split()).apply(count_rows).unstack() ;"
   ]
  },
  {
   "cell_type": "code",
   "execution_count": null,
   "metadata": {},
   "outputs": [],
   "source": [
    "figure(figsize=(12,8))\n",
    "seaborn.heatmap(by_cross) \n",
    "xlabel('hour')\n",
    "ylabel('Day')\n",
    "title('Frequency by hours- uber - Apr 2014');"
   ]
  },
  {
   "cell_type": "markdown",
   "metadata": {},
   "source": [
    "# by lat and lon"
   ]
  },
  {
   "cell_type": "code",
   "execution_count": null,
   "metadata": {},
   "outputs": [],
   "source": [
    "figure(figsize=(15,7))\n",
    "hist(data['Lat'], bins=100, range = (40.5, 41));"
   ]
  },
  {
   "cell_type": "code",
   "execution_count": null,
   "metadata": {},
   "outputs": [],
   "source": [
    "figure(figsize=(15,7))\n",
    "hist(data['Lon'], bins=100, range = (-74.1, -73.9));"
   ]
  },
  {
   "cell_type": "code",
   "execution_count": null,
   "metadata": {},
   "outputs": [],
   "source": [
    "figure(figsize=(15,7))\n",
    "hist(data['Lon'], bins=100, range = (-74.1, -73.9), color='g', alpha=.5, label = 'longitude', rwidth=.85)\n",
    "grid()\n",
    "legend(loc='upper left', fontsize='18')\n",
    "xlabel('Geo-position',fontsize = 20)\n",
    "ylabel('Frequency',fontsize = 20)\n",
    "twiny()\n",
    "grid()\n",
    "hist(data['Lat'], bins=100, range = (40.5, 41), color='r', alpha=.5, label = 'latitude', rwidth=.85)\n",
    "legend(loc='best',fontsize='18') \n",
    "xlabel('Geo-position',fontsize = 20);"
   ]
  },
  {
   "cell_type": "code",
   "execution_count": null,
   "metadata": {},
   "outputs": [],
   "source": [
    "figure(figsize=(15, 15))\n",
    "plot(data['Lon'], data['Lat'], '.', ms=2, alpha=.09, color = 'black', label='')\n",
    "#plot(-74.034991,40.739840,'*',color = 'red', ms=10)\n",
    "plot(-73.973657,40.762383,'*',color = 'red',ms=15, label = 'Trump Tower')\n",
    "grid()\n",
    "xlim(-74.10, -73.85)\n",
    "ylim(40.6, 40.9)\n",
    "legend(loc='upper left',fontsize='18') ;"
   ]
  },
  {
   "cell_type": "code",
   "execution_count": null,
   "metadata": {},
   "outputs": [],
   "source": [
    "figure(figsize=(8,3))\n",
    "hist(data.hour, bins=24, range=(-0.5, 24), rwidth=.89) \n",
    "xticks(range(0,25), data.hour.index)\n",
    "xlabel('hour')\n",
    "ylabel('frequency')\n",
    "title('Frequency by hours- uber - Apr 2014');"
   ]
  },
  {
   "cell_type": "code",
   "execution_count": null,
   "metadata": {},
   "outputs": [],
   "source": [
    "lista_horas = [0,7,10,13,15,18,20,2,17]\n",
    "\n",
    "spt = 1.4\n",
    "alfa = .4\n",
    "colorin = 'red'\n",
    "x_min = -74.10\n",
    "x_max = -73.85\n",
    "y_min = 40.6\n",
    "y_max = 40.9\n",
    "\n",
    "figure(figsize=(30, 30))\n",
    "for i in range(len(lista_horas)):\n",
    "    plt.subplot(3, 3, (i+1))\n",
    "    h=lista_horas[i]\n",
    "    df_hour = data[data.hour == h]\n",
    "    plot(df_hour['Lon'], df_hour['Lat'], '.', ms=spt, alpha=alfa, color = colorin, label = 'hour = '+str(h))\n",
    "    xlim(x_min, x_max)\n",
    "    ylim(y_min, y_max)\n",
    "    grid()\n",
    "    legend(loc='upper left',fontsize='32') ;\n",
    "    "
   ]
  }
 ],
 "metadata": {
  "kernelspec": {
   "display_name": "Python 3",
   "language": "python",
   "name": "python3"
  },
  "language_info": {
   "codemirror_mode": {
    "name": "ipython",
    "version": 3
   },
   "file_extension": ".py",
   "mimetype": "text/x-python",
   "name": "python",
   "nbconvert_exporter": "python",
   "pygments_lexer": "ipython3",
   "version": "3.6.6"
  }
 },
 "nbformat": 4,
 "nbformat_minor": 2
}
