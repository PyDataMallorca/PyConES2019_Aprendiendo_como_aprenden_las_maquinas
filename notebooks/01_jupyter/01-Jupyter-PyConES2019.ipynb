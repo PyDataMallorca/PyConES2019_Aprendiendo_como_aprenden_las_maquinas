{
 "cells": [
  {
   "cell_type": "markdown",
   "metadata": {},
   "source": [
    "# Introduccion Jupyter notebook"
   ]
  },
  {
   "cell_type": "markdown",
   "metadata": {},
   "source": [
    "### ¿Qué es Jupyter?\n",
    "\n",
    "Jupyter es un entorno de trabajo que permite desarrollar código en Python (por defecto, aunque veremos más adelante como permitir otros lenguajes) de manera dinámica, a la vez que integrar en un mismo documento tanto bloques de código como texto, gráficas o imágenes. Es un SaaS utilizado ampliamente en análisis numérico, estadística y machine learning, entre otros campos de la informática y las matemáticas.\n",
    "\n",
    "En esta breve introducción vamos a presentar las características principales del notebook, y a explicar las diferentes funcionalidades y tipos de celdas que están disponibles."
   ]
  },
  {
   "cell_type": "markdown",
   "metadata": {},
   "source": [
    "### Instalación\n",
    "\n",
    "#### Por ejemplo desde una consola linux:\n",
    "\n",
    "Lo primero que necesitamos es tener instalado Python 3, que podemos descargar de su __[web oficial](https://www.python.org/downloads/release/python-364/)__. Una vez hecho, actualizamos al gestor de paquetes de python vía\n",
    "\n",
    "    python3 -m pip install --upgrade pip\n",
    "y después instalamos Jupyter\n",
    "\n",
    "    pip3 install jupyter\n",
    "Cuando haya terminado de descargar, podemos arrancarlo con el comando\n",
    "\n",
    "    jupyter notebook\n",
    "Se abrirá una nueva ventana en nuestro navegador predefinido, y la terminal quedará bloqueada con el proceso. (Podemos abrirlo en otro navegador, para lo cual se nos indica la URL en la salida por pantalla).\n",
    "<img width=650px src='https://imgur.com/f2juR7n.png'>"
   ]
  },
  {
   "cell_type": "markdown",
   "metadata": {},
   "source": [
    "## Creando un cuaderno\n",
    "El workspace que abre Jupyter es nuestro home de usuario. Con el botón New, podemos crear:\n",
    "- Carpetas (recomendable para organizar todo).\n",
    "- Archivos de texto (con un editor bastante simple).\n",
    "- Terminales.\n",
    "- Cuadernos, que es la opción que vamos a estudiar en este tutorial.\n",
    "\n",
    "Cuando creamos un cuaderno, se nos abre en una pestaña nueva. La interfaz es muy sencilla, con una barra de menú y herramientas y una celda vacía, que es la unidad básica de trabajo con Jupyter. \n",
    "\n",
    "\n",
    "Los notebooks estan pensados para poder ejecutar celdas de código. En este tutorial usaremos Python, pero tambien es posible utilizarlo con otros lenguajes de programación como Julia, R, C, etc. Esta posibilidad de utilizar diferentes lenguajes, se debe a que la interfaz de Jupyter notebook es compatible con diferentes kernels.\n",
    "\n",
    "Un kernel es el lenguaje de programación usado en el \"backend\" de Jupyter para ejecutar las celdas de código. Por ejemplo, en este caso estamos utilizando un kernel de Python 3.6, pero seria posible usar otros como el kernel de Python 2.7, un kernel de Julia, o de cualquier otro lenguaje compatible con Jupyter. \n",
    "\n",
    "En estas celdas es donde llevaremos a cabo nuestros análisis. Es posible ejecutarlas en el orden que queramos, ya que no es necesario que se ejecuten de forma secuencial.\n",
    "\n",
    "\n",
    "En una celda, podremos escribir una o varias líneas de código, y ejecutarla. También podemos escribir texto plano, y eliminar la celda del flujo de ejecución del cuaderno o hacer que se muestre de manera diferente si queremos que funcione como título, separador de sección, etc. Lo veremos más adelante.\n",
    "\n",
    "Es importante remarcar que tenemos dos modos de trabajo en Jupyter: \n",
    "- edición, que permite modificar el contenido de las celdas, como si fuera un editor de texto. La que tengamos seleccionada se muestra en verde. Podemos entrar en el mismo seleccionando una celda y pulsando _Enter_. \n",
    "<img src='https://imgur.com/burNHbh.png'>\n",
    "\n",
    "- mando, que nos permite ejecutar celdas o modificar el cuaderno y su estructura. La celda seleccionada se muestra en azul. Podemos volver al modo de mando pulsando _Esc_.\n",
    "<img src='https://imgur.com/b7I1thD.png'>\n",
    "\n",
    "Además, si ha habido un error en la ejecución de una celda, ésta aparece en color rojo.\n",
    "\n",
    "Para ejecutar una celda, haremos _Cmd + Enter_, o si queremos pasar automáticamente a la siguiente después de ejecutarla, podemos hacer _Shift + Enter_. Para saber cuándo una celda se ha ejecutado, está en ello o ya ha terminado, podemos mirar la cabecera de la celda:\n",
    "- Si solamente aparece In [ ], quiere decir que aún no se ha ejecutado.\n",
    "- Si lo que tenemos es In [\\*], entonces está en proceso de ejecución.\n",
    "- Si aparece un número entre los corchetes, ya ha terminado de ejecutar. La única _pega_ es que podemos haber hecho cambios posteriores a su ejecución, y esto no se indica de ninguna manera.\n",
    "\n",
    "\n",
    "Veamos un Ejemplo\n"
   ]
  },
  {
   "cell_type": "code",
   "execution_count": null,
   "metadata": {},
   "outputs": [],
   "source": [
    "string = \"Hola mundo\"\n",
    "print(string)"
   ]
  },
  {
   "cell_type": "code",
   "execution_count": null,
   "metadata": {},
   "outputs": [],
   "source": [
    "data = string, 1234\n",
    "data"
   ]
  },
  {
   "cell_type": "code",
   "execution_count": null,
   "metadata": {},
   "outputs": [],
   "source": [
    "data[0]"
   ]
  },
  {
   "cell_type": "markdown",
   "metadata": {},
   "source": [
    "# Barra de herramientas\n",
    "\n",
    "En la Parte superior del notebook podéis encontrar la barra de herramientas. Cada uno de los botones ofrece acceso rápido a una funcionalidad diferente."
   ]
  },
  {
   "cell_type": "markdown",
   "metadata": {},
   "source": [
    "<div id=\"maintoolbar-container\" class=\"container toolbar\"><div class=\"btn-group\" id=\"save-notbook\"><button class=\"btn btn-default\" title=\"Save and Checkpoint\" data-jupyter-action=\"jupyter-notebook:save-notebook\"><i class=\"fa-save fa\"></i></button></div><div class=\"btn-group\" id=\"insert_above_below\"><button class=\"btn btn-default\" title=\"insert cell below\" data-jupyter-action=\"jupyter-notebook:insert-cell-below\"><i class=\"fa-plus fa\"></i></button></div><div class=\"btn-group\" id=\"cut_copy_paste\"><button class=\"btn btn-default\" title=\"cut selected cells\" data-jupyter-action=\"jupyter-notebook:cut-cell\"><i class=\"fa-cut fa\"></i></button><button class=\"btn btn-default\" title=\"copy selected cells\" data-jupyter-action=\"jupyter-notebook:copy-cell\"><i class=\"fa-copy fa\"></i></button><button class=\"btn btn-default\" title=\"paste cells below\" data-jupyter-action=\"jupyter-notebook:paste-cell-below\"><i class=\"fa-paste fa\"></i></button></div><div class=\"btn-group\" id=\"move_up_down\"><button class=\"btn btn-default\" title=\"move selected cells up\" data-jupyter-action=\"jupyter-notebook:move-cell-up\"><i class=\"fa-arrow-up fa\"></i></button><button class=\"btn btn-default\" title=\"move selected cells down\" data-jupyter-action=\"jupyter-notebook:move-cell-down\"><i class=\"fa-arrow-down fa\"></i></button></div><div class=\"btn-group\" id=\"run_int\"><button class=\"btn btn-default\" title=\"Run\" data-jupyter-action=\"jupyter-notebook:run-cell-and-select-next\"><i class=\"fa-step-forward fa\"></i><span class=\"toolbar-btn-label\">Run</span></button><button class=\"btn btn-default\" title=\"interrupt the kernel\" data-jupyter-action=\"jupyter-notebook:interrupt-kernel\"><i class=\"fa-stop fa\"></i></button><button class=\"btn btn-default\" title=\"restart the kernel (with dialog)\" data-jupyter-action=\"jupyter-notebook:confirm-restart-kernel\"><i class=\"fa-repeat fa\"></i></button><button class=\"btn btn-default\" title=\"restart the kernel, then re-run the whole notebook (with dialog)\" data-jupyter-action=\"jupyter-notebook:confirm-restart-kernel-and-run-all-cells\"><i class=\"fa-forward fa\"></i></button></div><select id=\"cell_type\" class=\"form-control select-xs\"><option value=\"code\">Code</option><option value=\"markdown\">Markdown</option><option value=\"raw\">Raw NBConvert</option><option value=\"heading\">Heading</option><option value=\"multiselect\" disabled=\"disabled\" style=\"display: none;\">-</option></select><div class=\"btn-group\"><button class=\"btn btn-default\" title=\"open the command palette\" data-jupyter-action=\"jupyter-notebook:show-command-palette\"><i class=\"fa-keyboard-o fa\"></i></button></div></div>"
   ]
  },
  {
   "cell_type": "markdown",
   "metadata": {},
   "source": [
    "* <button class=\"btn btn-default\" title=\"Save and Checkpoint\" data-jupyter-action=\"jupyter-notebook:save-notebook\"><i class=\"fa-save fa\"></i></button>  Guardar el notebook.\n",
    "\n",
    "* <button class=\"btn btn-default\" title=\"insert cell below\" data-jupyter-action=\"jupyter-notebook:insert-cell-below\"><i class=\"fa-plus fa\"></i></button> Añadir una celda nueva a continuación de la que se tiene seleccionada actualmente.\n",
    "\n",
    "* <button class=\"btn btn-default\" title=\"cut selected cells\" data-jupyter-action=\"jupyter-notebook:cut-cell\"><i class=\"fa-cut fa\"></i></button> Cortar celdas seleccionadas\n",
    "\n",
    "* <button class=\"btn btn-default\" title=\"copy selected cells\" data-jupyter-action=\"jupyter-notebook:copy-cell\"><i class=\"fa-copy fa\"></i></button> Copiar celdas seleccionadas\n",
    "\n",
    "* <button class=\"btn btn-default\" title=\"paste cells below\" data-jupyter-action=\"jupyter-notebook:paste-cell-below\"><i class=\"fa-paste fa\"></i></button> Pegar celdas a continuación de la celda seleccionada\n",
    "\n",
    "* <button class=\"btn btn-default\" title=\"move selected cells up\" data-jupyter-action=\"jupyter-notebook:move-cell-up\"><i class=\"fa-arrow-up fa\"></i></button> Desplazar celdas seleccionadas hacia arriba\n",
    "\n",
    "* <button class=\"btn btn-default\" title=\"move selected cells down\" data-jupyter-action=\"jupyter-notebook:move-cell-down\"><i class=\"fa-arrow-down fa\"></i></button> Desplazar celdas seleccionadas hacia abajo\n",
    "\n",
    "* <button class=\"btn btn-default\" title=\"Run\" data-jupyter-action=\"jupyter-notebook:run-cell-and-select-next\"><i class=\"fa-step-forward fa\"></i><span class=\"toolbar-btn-label\">Run</span></button> Ejecuta la celda seleccionada\n",
    "\n",
    "* <button class=\"btn btn-default\" title=\"interrupt the kernel\" data-jupyter-action=\"jupyter-notebook:interrupt-kernel\"><i class=\"fa-stop fa\"></i></button> Interrumpe la ejecución de código\n",
    "\n",
    "* <button class=\"btn btn-default\" title=\"restart the kernel (with dialog)\" data-jupyter-action=\"jupyter-notebook:confirm-restart-kernel\"><i class=\"fa-repeat fa\"></i></button> Reinicia el kernel del intérprete de código\n",
    "\n",
    "* <button class=\"btn btn-default\" title=\"restart the kernel, then re-run the whole notebook (with dialog)\" data-jupyter-action=\"jupyter-notebook:confirm-restart-kernel-and-run-all-cells\"><i class=\"fa-forward fa\"></i></button> Reinicia el kernel y ejecuta todas las celdas en orden\n",
    "\n",
    "\n",
    "\n",
    "* <select id=\"cell_type\" class=\"form-control select-xs\" style=\"width: 8em;\"><option value=\"code\">Code</option><option value=\"markdown\">Markdown</option><option value=\"raw\">Raw NBConvert</option><option value=\"heading\">Heading</option><option value=\"multiselect\" disabled=\"disabled\" style=\"display: none; width: 6em;\">-</option></select> \n",
    "\n",
    "Selecciona el tipo de celda"
   ]
  },
  {
   "cell_type": "markdown",
   "metadata": {},
   "source": [
    "### Atajos de teclado\n",
    "\n",
    "\n",
    "Todos los atajos de teclado disponibles están en el botón <img  src='https://imgur.com/Jc0uZWC.png'>\n",
    "\n",
    "\n",
    "Además, existen múltiples atajos de teclado para llevar a cabo las funciones más comunes. Se puede acceder a la lista completa de atajos en la pestaña `help` del menú superior, pero a continuación expondremos algunos de los más útiles.\n",
    "\n",
    "- `Shift + Enter`: Ejecutar celda.\n",
    "- `Alt + Enter`: Ejecutar celda y añadir una celda vacia a continuación de la celda actual.\n",
    "- `Esc`(en modo edición): Pasar a modo comando\n",
    "- `m`(en modo comando): Convertir la celda a tipo Markdown.\n",
    "- `y`(en modo comando): Convertir la celda a tipo código.\n",
    "- `Enter`(en modo comando): Pasar a modo edición."
   ]
  },
  {
   "cell_type": "markdown",
   "metadata": {},
   "source": [
    "## Escribiendo código\n",
    "\n",
    "Es importante, a la par que evidente, tener instalados los paquetes de Python que queramos utilizar. Una vez hecho, podemos importarlos al cuaderno. Para los ejemplos utilizados en este tutorial, será necesario instalar los paquetes matplotlib, numpy y emoji. Recuerdo que la instalación de los mismos se hace igual que instalamos jupyter al principio del tutorial, es decir:\n",
    "\n",
    "    pip3 install matplotlib\n",
    "                    \n",
    "Podemos escribir cualquier tipo de algoritmo, como podría ser una búsqueda binaria:     "
   ]
  },
  {
   "cell_type": "code",
   "execution_count": null,
   "metadata": {},
   "outputs": [],
   "source": [
    "#!pip3 install matplotlib"
   ]
  },
  {
   "cell_type": "markdown",
   "metadata": {},
   "source": [
    "# Probemos con un código sencillo"
   ]
  },
  {
   "cell_type": "code",
   "execution_count": null,
   "metadata": {},
   "outputs": [],
   "source": [
    "%matplotlib inline\n",
    "import numpy as np\n",
    "import matplotlib.pyplot as plt\n",
    "\n",
    "plt.rcParams['figure.figsize'] = (20,8)\n",
    "plt.style.use('ggplot')"
   ]
  },
  {
   "cell_type": "code",
   "execution_count": null,
   "metadata": {},
   "outputs": [],
   "source": [
    "x = np.linspace(-np.pi, np.pi, 100)\n",
    "y1 = np.sin(x)\n",
    "y2 = np.cos(x)"
   ]
  },
  {
   "cell_type": "markdown",
   "metadata": {},
   "source": [
    "# Todo se queda en memoria\n",
    "\n",
    "mientras no se reinicie el kernel\n"
   ]
  },
  {
   "cell_type": "code",
   "execution_count": null,
   "metadata": {},
   "outputs": [],
   "source": [
    "plt.plot(x, y1, label='sen(x)')\n",
    "plt.plot(x, y2, label='cos(x)')\n",
    "plt.title('Funciones de ejemplo')\n",
    "plt.xlabel('x')\n",
    "plt.ylabel('f(x)')\n",
    "plt.legend()\n",
    "plt.show()"
   ]
  },
  {
   "cell_type": "code",
   "execution_count": null,
   "metadata": {},
   "outputs": [],
   "source": [
    "def busqueda_binaria(array, valor):\n",
    "    ary = array\n",
    "    a = 0\n",
    "    b = len(array)\n",
    "    \n",
    "    while a < b:\n",
    "        m = (a + b) // 2\n",
    "\n",
    "        if array[m] == valor:\n",
    "            return m\n",
    "        elif array[m] < valor:\n",
    "            a = m + 1\n",
    "        else:\n",
    "            b = m\n",
    "            \n",
    "    return None\n",
    "\n",
    "x1 = [0,1,2,3,4,5,6,7]\n",
    "x2 = [1,4,8,12,41]\n",
    "x3 = [0,1,2,4,8,16,32]"
   ]
  },
  {
   "cell_type": "code",
   "execution_count": null,
   "metadata": {},
   "outputs": [],
   "source": [
    "busqueda_binaria(x3,16)"
   ]
  },
  {
   "cell_type": "markdown",
   "metadata": {},
   "source": [
    "# Celdas de markdown\n",
    "\n",
    "Una de las mayores ventajas de Jupyter es la capacidad de escribir Markdown en las celdas para añadir explicaciones y comentarios a las celdas de código, pero también ecuaciones en latex y mucho más. Esto es una herramienta muy potente para explicar a alguien o a ti mismo lo que tu código hace, para hacer un informe, un trabajo, escribir en un blog...\n",
    "\n",
    "Markdown es un lenguaje aparte, no te preocupes por él demasiado ahora, irás aprendiendo sobre la marcha... Para cuando lo vayas necesitando, aquí tienes una [chuleta](https://github.com/adam-p/markdown-here/wiki/Markdown-Cheatsheet).\n"
   ]
  },
  {
   "cell_type": "markdown",
   "metadata": {},
   "source": [
    "<h1>Titulo</h1>\n",
    "\n",
    "* lista1\n",
    "\n",
    "* lista2\n",
    "\n",
    "`èsto es una pieza de código`\n",
    "\n",
    "```python\n",
    "\n",
    "def fn():\n",
    "    #esto es una funcion\n",
    "    pass\n",
    "```"
   ]
  },
  {
   "cell_type": "markdown",
   "metadata": {},
   "source": [
    "# Notación Matemática"
   ]
  },
  {
   "cell_type": "markdown",
   "metadata": {},
   "source": [
    "### LaTeX\n",
    "Para mostrar código $\\LaTeX$ en nuestro cuaderno, simplemente tenemos que escribir entre dólares (simples o dobles, según queramos), y marcar la celda como texto plano (Markdown).\n",
    "\n",
    "<img src='https://imgur.com/05KXWTj.png'>"
   ]
  },
  {
   "cell_type": "markdown",
   "metadata": {},
   "source": [
    "# Algunas ecuaciones\n",
    "\n",
    "\n",
    "```\n",
    "Podemos escribr cosas tanto en linea como $\\forall x \\in X, \\quad \\exists y \\leq \\epsilon$ que es muy práctico para calculo 1. Igualmente, se pueden escribir cosas como $\\cos (2\\theta) = \\cos^2 \\theta - \\sin^2 \\theta$ que es útil en trigonometría. O tambien podemos escribir\n",
    "$$\n",
    "\\frac{n!}{k!(n-k)!} = \\binom{n}{k},\n",
    "$$\n",
    "\n",
    "$$\n",
    "P\\left(A=2\\middle|\\frac{A^2}{B}>4\\right) = \\int_0^\\infty \\mathrm{e}^{-x}\\,\\mathrm{d}x\n",
    "$$\n",
    "\n",
    "```"
   ]
  },
  {
   "cell_type": "markdown",
   "metadata": {},
   "source": [
    "Podemos escribr cosas tanto en linea como $\\forall x \\in X, \\quad \\exists y \\leq \\epsilon$\n",
    "que es muy práctico para calculo 1. \n",
    "\n",
    "\n",
    "Igualmente se pueden escribir cosas como $\\cos (2\\theta) = \\cos^2 \\theta - \\sin^2 \\theta$ que\n",
    "es útil en trigonometría. O tambien podemos escribir\n",
    "\n",
    "\n",
    "$$\n",
    "\\frac{n!}{k!(n-k)!} = \\binom{n}{k},\n",
    "$$\n",
    "\n",
    "$$\n",
    "P\\left(A=2\\middle|\\frac{A^2}{B}>4\\right) = \\int_0^\\infty \\mathrm{e}^{-x}\\,\\mathrm{d}x\n",
    "$$"
   ]
  },
  {
   "cell_type": "markdown",
   "metadata": {},
   "source": [
    "# Cuadros\n",
    "\n",
    "- Debe haber al menos trés lineas para marcar una separación\n",
    "- Los delimitadores externos son opcionales\n",
    "\n",
    "```\n",
    "| Col 1         | Col 2         | Col 3  |\n",
    "| ------------- |:-------------:| ------:|\n",
    "| Esta          | Esta          | \\$1600 |\n",
    "| columna       | se encuentra  |   \\$12 |\n",
    "| a la derecha  | centrada      |    \\$1 |\n",
    "\n",
    "\n",
    "Markdown | bien | feo\n",
    "---|---|---\n",
    "*No se ve muy bien* | ~el código~ | **pero genera un cuadro decente**\n",
    "1 | 2 | 3\n",
    "```"
   ]
  },
  {
   "cell_type": "markdown",
   "metadata": {},
   "source": [
    "| Col 1         | Col 2         | Col 3  |\n",
    "| ------------- |:-------------:| ------:|\n",
    "| Esta          | Esta          | \\$1600 |\n",
    "| columna       | se encuentra  |   \\$12 |\n",
    "| a la derecha  | centrada      |    \\$1 |\n",
    "\n",
    "\n",
    "\n",
    "Markdown | bien | feo\n",
    "---|---|---\n",
    "*No se ve muy bien* | ~el código~ | **pero genera un cuadro decente**\n",
    "1 | 2 | 3"
   ]
  },
  {
   "cell_type": "markdown",
   "metadata": {},
   "source": [
    "# Comandos mágicos\n",
    "\n",
    "Existen diferentes tipos de comando mágicos en Jupyter. Los que empiezan por `%` se aplican solo a una linea de código, y los que empiezan por `%%` se aplican a la celda completa. \n",
    "\n",
    "Para más información sobre los comandos mágicos haz click [aquí](https://ipython.readthedocs.io/en/stable/interactive/magics.html)."
   ]
  },
  {
   "cell_type": "code",
   "execution_count": null,
   "metadata": {},
   "outputs": [],
   "source": [
    "%%time\n",
    "var = [1+i for i in range(1000)]"
   ]
  },
  {
   "cell_type": "code",
   "execution_count": null,
   "metadata": {},
   "outputs": [],
   "source": [
    "%timeit -n 100 var = [1+i for i in range(1000)]"
   ]
  },
  {
   "cell_type": "markdown",
   "metadata": {},
   "source": [
    "# Tambien existe la biblioteca de Ipython"
   ]
  },
  {
   "cell_type": "code",
   "execution_count": null,
   "metadata": {},
   "outputs": [],
   "source": [
    "from IPython.display import YouTubeVideo\n",
    "# a talk about IPython at Sage Days at U. Washington, Seattle.\n",
    "# Video credit: William Stein.\n",
    "YouTubeVideo('HW29067qVWk')"
   ]
  },
  {
   "cell_type": "code",
   "execution_count": null,
   "metadata": {},
   "outputs": [],
   "source": []
  },
  {
   "cell_type": "code",
   "execution_count": null,
   "metadata": {},
   "outputs": [],
   "source": []
  }
 ],
 "metadata": {
  "kernelspec": {
   "display_name": "Python 3",
   "language": "python",
   "name": "python3"
  },
  "language_info": {
   "codemirror_mode": {
    "name": "ipython",
    "version": 3
   },
   "file_extension": ".py",
   "mimetype": "text/x-python",
   "name": "python",
   "nbconvert_exporter": "python",
   "pygments_lexer": "ipython3",
   "version": "3.6.6"
  }
 },
 "nbformat": 4,
 "nbformat_minor": 2
}
