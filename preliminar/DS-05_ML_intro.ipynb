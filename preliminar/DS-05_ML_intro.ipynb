{
 "cells": [
  {
   "cell_type": "markdown",
   "metadata": {},
   "source": [
    "¿Qué es el aprendizaje automático? Una definición muy simple sería algo como \"la capacidad de poder hacer predicciones\". Aprendes a partir de unos datos y te permite hacer predicciones sobre nuevos datos.\n",
    "\n",
    "Ejemplos de aprendizaje automático al que estamos sometidos cada día: lo que nos enseña fb, twitter o linkedin en nuestra línea temporal basado en todos los datos sobre nosotros que recolectan, los productos que nos recomienda amazon o aliexpress basados en todos los datos sobre nosotros que recolectan, las respuestas automatizadas de GMail basadas en la lectura de la información de nuestros correos,...\n",
    "\n",
    "Ahora mismo somos humanos aprendiendo como aprenden las máquinas (creadas por humanos). Si lo pensamos friamente,...\n",
    "\n",
    "Hay tres tipos básicos de aprendizaje automático:\n",
    "\n",
    "* Supervisado, \n",
    "* No supervisado, \n",
    "* De refuerzo, muy en boga en los últimos años, básicamente, se trata de aprender sobre la experiencia. Hay un actor y un entorno y se trata de optimizar el trabajo del actor en el entorno proporcionando funciones de recompensa o castigo. Por ejemplo, un coche sin conductor recibirá una recompensa si es capaz de llevar a sus pasajeros de forma segura y rápida a su destino. De tal forma, como hemos comentado, el actor aprende en base a las experiencias.\n",
    "\n",
    "Existen otros tipos de aprendizaje como el semisupervisado, el aprendizaje activo, el *forecasting* (donde interviene un componente temporal),..."
   ]
  },
  {
   "cell_type": "markdown",
   "metadata": {},
   "source": [
    "## Aprendizaje supervisado\n",
    "\n",
    "El aprendizaje supervisado es en el que más nos vamos a enfocar. Para poder llevarlo a cabo nuestros datos deben estar etiquetados, nuestro *input* debe llevar su *output*. Por ejemplo, si un dato (vector) fuera una persona, podríamos tener una serie de *features* o rasgos como la altura, el color de los ojos o el peso. Por tanto, los datos se representarán como algo así:\n",
    "\n",
    "$$ \\{(\\textbf{x}_{i},y_i)\\}_{i=0}^{N} $$\n",
    "\n",
    "donde,\n",
    "\n",
    "* $ \\textbf{x}_i $ es el vector de *features* para el elemento $ i $ dentro de los $ N $ posibles elementos. Este vector de *features* presentará una o más dimensiones, $ j=1,...,D $. Cada *feature* se podría representar como $ x^{(j)} $.\n",
    "* $ y_i $ sería la etiqueta. Esta etiqueta puede pertenecer a un conjunto finito de clases, puede ser un número real, un vector,...\n",
    "\n",
    "El aprendizaje supervisado está muy relacionado a la aproximación de funciones. Tenemos unos datos y aproximamos una función a esos datos. Pero no solo a esos datos, la idea es generalizar y poder aplicar esa aproximación de nuestras función a nuevos datos. Por tanto, la idea del aprendizaje supervisado es más la generalización que el ajuste. Si obtenemos un ajuste muy bueno a los datos que tenemos inicialmente pero luego esa función aproximada no es capaz de hacer buenas predicciones con los nuevos datos habremos fracasado. Querremos respuestas donde antes no las teníamos. Ejemplos: detección de spam, diagnósticos médicos, predicción de clicks,...\n",
    "\n",
    "Poniéndolo de otra forma más resumida, el objetivo principal de un algoritmo de aprendizaje supervisado sería el de usar un conjunto de datos para obtener un modelo el cual tomará un *feature vector* **x** como entrada y producirá una información de salida que nos permitirá deducir la etiqueta para ese *feature vector*.\n",
    "\n",
    "Se puede dividir en dos grandes partes, la regresión y la clasificación.\n",
    "\n",
    "* en la regresión nuestro objetivo, nuestro resultado, va a ser continuo. A partir de nuestro modelo y un un vector de rasgos sin etiqueta deberíamos obtener un valor de salida (una nueva etiqueta).\n",
    "\n",
    "* en la clasificación el objetivo va a ser discreto o categórico (si/no, hombre/mujer, español/francés/alemán/..., blanco/negro/azul/..., ...). El conjunto de clases será finito, si las clases se reducen a dos entonces hablamos de clasificación binaria mientras que si las clases son más de dos entonces nos referimos a una clasificación multiclase."
   ]
  },
  {
   "cell_type": "markdown",
   "metadata": {},
   "source": [
    "## Aprendizaje no supervisado\n",
    "\n",
    "Aquí no tenemos una función que aproximar, por tanto, no tenemos un objetivo claro. Queremos conocer más sobre ciertas probabilidades y como se distribuyen estas probabilidades. Podemos hacer agrupamiento para ver si determinados grupos se comportan de determinada forma y poder actuar sobre ese comportamiento, podemos estimar la densidad de núcleos para obtener esas probabilidades, podemos hacer reducción de dimensionalidad para comprimir la cantidad de información disponible,... Como es más complicado de obtener un objetivo claro quizá sea un tipo de aprendizaje menos usado. A veces se usa como parte del flujo de trabajo del aprendizaje supervisado."
   ]
  }
 ],
 "metadata": {
  "kernelspec": {
   "display_name": "Python 3",
   "language": "python",
   "name": "python3"
  },
  "language_info": {
   "codemirror_mode": {
    "name": "ipython",
    "version": 3
   },
   "file_extension": ".py",
   "mimetype": "text/x-python",
   "name": "python",
   "nbconvert_exporter": "python",
   "pygments_lexer": "ipython3",
   "version": "3.6.8"
  }
 },
 "nbformat": 4,
 "nbformat_minor": 2
}
